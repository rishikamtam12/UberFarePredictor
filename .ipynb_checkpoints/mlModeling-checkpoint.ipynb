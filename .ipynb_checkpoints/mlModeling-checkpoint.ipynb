{
 "cells": [
  {
   "cell_type": "code",
   "metadata": {
    "ExecuteTime": {
     "end_time": "2024-11-24T18:40:33.491382Z",
     "start_time": "2024-11-24T18:40:32.744555Z"
    }
   },
   "source": [
    "from google.cloud import bigquery\n",
    "import db_dtypes\n",
    "\n",
    "\n",
    "\n",
    "\n",
    "# Initialize BigQuery Client\n",
    "client = bigquery.Client.from_service_account_json(\"secrets/serviceKey.json\")\n",
    "\n",
    "project_id = \"idmpproject-441123\"\n",
    "dataset_id = \"uberFareEstimation\"\n",
    "table_id = 'uber_data'\n",
    "\n",
    "table_path = f\"{project_id}.{dataset_id}.{table_id}\"\n",
    "\n",
    "# Define the query\n",
    "query = f\"\"\"\n",
    "    SELECT *\n",
    "    FROM `{table_path}`\n",
    "    LIMIT 1000\n",
    "\"\"\"\n",
    "\n",
    "# Run the query\n",
    "query_job = client.query(query)\n",
    "\n",
    "# Wait for the query to complete and fetch results\n",
    "results = query_job.result()\n",
    "\n",
    "df = results.to_dataframe()\n",
    "print(df.head())\n"
   ],
   "outputs": [
    {
     "name": "stdout",
     "output_type": "stream",
     "text": [
      "db-dtypes module is working.\n"
     ]
    },
    {
     "ename": "ValueError",
     "evalue": "Please install the 'db-dtypes' package to use this function.",
     "output_type": "error",
     "traceback": [
      "\u001B[0;31m---------------------------------------------------------------------------\u001B[0m",
      "\u001B[0;31mModuleNotFoundError\u001B[0m                       Traceback (most recent call last)",
      "File \u001B[0;32m~/anaconda3/envs/DS3500/lib/python3.12/site-packages/google/cloud/bigquery/_pandas_helpers.py:43\u001B[0m\n\u001B[1;32m     42\u001B[0m \u001B[38;5;28;01mtry\u001B[39;00m:\n\u001B[0;32m---> 43\u001B[0m     \u001B[38;5;28;01mimport\u001B[39;00m \u001B[38;5;21;01mdb_dtypes\u001B[39;00m  \u001B[38;5;66;03m# type: ignore\u001B[39;00m\n\u001B[1;32m     45\u001B[0m     date_dtype_name \u001B[38;5;241m=\u001B[39m db_dtypes\u001B[38;5;241m.\u001B[39mDateDtype\u001B[38;5;241m.\u001B[39mname\n",
      "\u001B[0;31mModuleNotFoundError\u001B[0m: No module named 'db_dtypes'",
      "\nThe above exception was the direct cause of the following exception:\n",
      "\u001B[0;31mValueError\u001B[0m                                Traceback (most recent call last)",
      "Cell \u001B[0;32mIn[12], line 29\u001B[0m\n\u001B[1;32m     26\u001B[0m \u001B[38;5;66;03m# Wait for the query to complete and fetch results\u001B[39;00m\n\u001B[1;32m     27\u001B[0m results \u001B[38;5;241m=\u001B[39m query_job\u001B[38;5;241m.\u001B[39mresult()\n\u001B[0;32m---> 29\u001B[0m df \u001B[38;5;241m=\u001B[39m results\u001B[38;5;241m.\u001B[39mto_dataframe()\n\u001B[1;32m     30\u001B[0m \u001B[38;5;28mprint\u001B[39m(df\u001B[38;5;241m.\u001B[39mhead())\n",
      "File \u001B[0;32m~/anaconda3/envs/DS3500/lib/python3.12/site-packages/google/cloud/bigquery/table.py:2287\u001B[0m, in \u001B[0;36mRowIterator.to_dataframe\u001B[0;34m(self, bqstorage_client, dtypes, progress_bar_type, create_bqstorage_client, geography_as_object, bool_dtype, int_dtype, float_dtype, string_dtype, date_dtype, datetime_dtype, time_dtype, timestamp_dtype, range_date_dtype, range_datetime_dtype, range_timestamp_dtype)\u001B[0m\n\u001B[1;32m   2052\u001B[0m \u001B[38;5;28;01mdef\u001B[39;00m \u001B[38;5;21mto_dataframe\u001B[39m(\n\u001B[1;32m   2053\u001B[0m     \u001B[38;5;28mself\u001B[39m,\n\u001B[1;32m   2054\u001B[0m     bqstorage_client: Optional[\u001B[38;5;124m\"\u001B[39m\u001B[38;5;124mbigquery_storage.BigQueryReadClient\u001B[39m\u001B[38;5;124m\"\u001B[39m] \u001B[38;5;241m=\u001B[39m \u001B[38;5;28;01mNone\u001B[39;00m,\n\u001B[0;32m   (...)\u001B[0m\n\u001B[1;32m   2073\u001B[0m     ] \u001B[38;5;241m=\u001B[39m DefaultPandasDTypes\u001B[38;5;241m.\u001B[39mRANGE_TIMESTAMP_DTYPE,\n\u001B[1;32m   2074\u001B[0m ) \u001B[38;5;241m-\u001B[39m\u001B[38;5;241m>\u001B[39m \u001B[38;5;124m\"\u001B[39m\u001B[38;5;124mpandas.DataFrame\u001B[39m\u001B[38;5;124m\"\u001B[39m:\n\u001B[1;32m   2075\u001B[0m \u001B[38;5;250m    \u001B[39m\u001B[38;5;124;03m\"\"\"Create a pandas DataFrame by loading all pages of a query.\u001B[39;00m\n\u001B[1;32m   2076\u001B[0m \n\u001B[1;32m   2077\u001B[0m \u001B[38;5;124;03m    Args:\u001B[39;00m\n\u001B[0;32m   (...)\u001B[0m\n\u001B[1;32m   2285\u001B[0m \n\u001B[1;32m   2286\u001B[0m \u001B[38;5;124;03m    \"\"\"\u001B[39;00m\n\u001B[0;32m-> 2287\u001B[0m     _pandas_helpers\u001B[38;5;241m.\u001B[39mverify_pandas_imports()\n\u001B[1;32m   2289\u001B[0m     \u001B[38;5;28;01mif\u001B[39;00m geography_as_object \u001B[38;5;129;01mand\u001B[39;00m shapely \u001B[38;5;129;01mis\u001B[39;00m \u001B[38;5;28;01mNone\u001B[39;00m:\n\u001B[1;32m   2290\u001B[0m         \u001B[38;5;28;01mraise\u001B[39;00m \u001B[38;5;167;01mValueError\u001B[39;00m(_NO_SHAPELY_ERROR)\n",
      "File \u001B[0;32m~/anaconda3/envs/DS3500/lib/python3.12/site-packages/google/cloud/bigquery/_pandas_helpers.py:1069\u001B[0m, in \u001B[0;36mverify_pandas_imports\u001B[0;34m()\u001B[0m\n\u001B[1;32m   1067\u001B[0m     \u001B[38;5;28;01mraise\u001B[39;00m \u001B[38;5;167;01mValueError\u001B[39;00m(_NO_PANDAS_ERROR) \u001B[38;5;28;01mfrom\u001B[39;00m \u001B[38;5;21;01mpandas_import_exception\u001B[39;00m\n\u001B[1;32m   1068\u001B[0m \u001B[38;5;28;01mif\u001B[39;00m db_dtypes \u001B[38;5;129;01mis\u001B[39;00m \u001B[38;5;28;01mNone\u001B[39;00m:\n\u001B[0;32m-> 1069\u001B[0m     \u001B[38;5;28;01mraise\u001B[39;00m \u001B[38;5;167;01mValueError\u001B[39;00m(_NO_DB_TYPES_ERROR) \u001B[38;5;28;01mfrom\u001B[39;00m \u001B[38;5;21;01mdb_dtypes_import_exception\u001B[39;00m\n",
      "\u001B[0;31mValueError\u001B[0m: Please install the 'db-dtypes' package to use this function."
     ]
    }
   ],
   "execution_count": 12
  },
  {
   "cell_type": "code",
   "execution_count": null,
   "metadata": {},
   "outputs": [],
   "source": []
  }
 ],
 "metadata": {
  "kernelspec": {
   "display_name": ".venv",
   "language": "python",
   "name": "python3"
  },
  "language_info": {
   "codemirror_mode": {
    "name": "ipython",
    "version": 3
   },
   "file_extension": ".py",
   "mimetype": "text/x-python",
   "name": "python",
   "nbconvert_exporter": "python",
   "pygments_lexer": "ipython3",
   "version": "3.12.6"
  }
 },
 "nbformat": 4,
 "nbformat_minor": 2
}
