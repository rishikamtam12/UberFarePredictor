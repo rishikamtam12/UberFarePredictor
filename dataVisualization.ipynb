{
 "cells": [
  {
   "cell_type": "code",
   "execution_count": 1,
   "metadata": {},
   "outputs": [
    {
     "name": "stderr",
     "output_type": "stream",
     "text": [
      "24/11/20 16:07:50 WARN Utils: Your hostname, sabaris-MacBook-Pro.local resolves to a loopback address: 127.0.0.1; using 10.110.50.201 instead (on interface en0)\n",
      "24/11/20 16:07:50 WARN Utils: Set SPARK_LOCAL_IP if you need to bind to another address\n",
      "24/11/20 16:07:50 WARN NativeCodeLoader: Unable to load native-hadoop library for your platform... using builtin-java classes where applicable\n",
      "Setting default log level to \"WARN\".\n",
      "To adjust logging level use sc.setLogLevel(newLevel). For SparkR, use setLogLevel(newLevel).\n"
     ]
    },
    {
     "data": {
      "text/html": [
       "\n",
       "            <div>\n",
       "                <p><b>SparkSession - in-memory</b></p>\n",
       "                \n",
       "        <div>\n",
       "            <p><b>SparkContext</b></p>\n",
       "\n",
       "            <p><a href=\"http://10.110.50.201:4040\">Spark UI</a></p>\n",
       "\n",
       "            <dl>\n",
       "              <dt>Version</dt>\n",
       "                <dd><code>v3.5.3</code></dd>\n",
       "              <dt>Master</dt>\n",
       "                <dd><code>local[*]</code></dd>\n",
       "              <dt>AppName</dt>\n",
       "                <dd><code>PySpark with BigQuery and GCS</code></dd>\n",
       "            </dl>\n",
       "        </div>\n",
       "        \n",
       "            </div>\n",
       "        "
      ],
      "text/plain": [
       "<pyspark.sql.session.SparkSession at 0x10e9211c0>"
      ]
     },
     "execution_count": 1,
     "metadata": {},
     "output_type": "execute_result"
    }
   ],
   "source": [
    "from pyspark.sql import SparkSession\n",
    "import os\n",
    "os.environ['GOOGLE_APPLICATION_CREDENTIALS'] = 'secrets/serviceKey.json'\n",
    "\n",
    "\n",
    "# JAR paths for BigQuery and GCS connectors\n",
    "bigquery_connector_jar = \"spark-bigquery-connector.jar\"\n",
    "gcs_connector_jar = \"gcs-connector.jar\"\n",
    "\n",
    "\n",
    "# Create SparkSession with both connectors\n",
    "spark = SparkSession.builder \\\n",
    "    .appName(\"PySpark with BigQuery and GCS\") \\\n",
    "    .config(\"spark.jars\", f\"{bigquery_connector_jar},{gcs_connector_jar}\") \\\n",
    "    .config(\"spark.sql.catalog.spark_bigquery\", \"com.google.cloud.spark.bigquery.BigQueryCatalog\") \\\n",
    "    .config(\"spark.hadoop.google.cloud.auth.service.account.json.keyfile\", \"secrets/serviceKey.json\") \\\n",
    "    .config(\"spark.bigquery.projectId\", \"idmpproject-441123\") \\\n",
    "    .getOrCreate()\n",
    "\n",
    "spark"
   ]
  },
  {
   "cell_type": "code",
   "execution_count": 2,
   "metadata": {},
   "outputs": [
    {
     "name": "stderr",
     "output_type": "stream",
     "text": [
      "                                                                                \r"
     ]
    },
    {
     "name": "stdout",
     "output_type": "stream",
     "text": [
      "+--------+--------+----------------+------------------+-------------+-----+----------------+------+--------+\n",
      "|distance|cab_type|      time_stamp|       destination|       source|price|surge_multiplier|    id|    name|\n",
      "+--------+--------+----------------+------------------+-------------+-----+----------------+------+--------+\n",
      "|    0.94|    Uber|2018-11-28T23:00|         North End|North Station|  4.5|             1.0| 39765|UberPool|\n",
      "|    0.94|    Uber|2018-12-14T19:00|         North End|North Station|  4.5|             1.0|437984|UberPool|\n",
      "|    0.63|    Uber|2018-11-27T21:00|Financial District|South Station|  4.5|             1.0|  1644|UberPool|\n",
      "|    0.63|    Uber|2018-12-15T15:00|Financial District|South Station|  4.5|             1.0| 10780|UberPool|\n",
      "|    0.63|    Uber|2018-12-15T13:00|Financial District|South Station|  4.5|             1.0| 21598|UberPool|\n",
      "|    0.63|    Uber|2018-11-28T20:00|Financial District|South Station|  4.5|             1.0| 25567|UberPool|\n",
      "|    0.63|    Uber|2018-11-29T10:00|Financial District|South Station|  4.5|             1.0| 29271|UberPool|\n",
      "|    0.63|    Uber|2018-11-28T20:00|Financial District|South Station|  4.5|             1.0| 42671|UberPool|\n",
      "|    0.63|    Uber|2018-12-03T01:00|Financial District|South Station|  4.5|             1.0| 43391|UberPool|\n",
      "|    0.63|    Uber|2018-12-14T13:00|Financial District|South Station|  4.5|             1.0| 45972|UberPool|\n",
      "|    0.63|    Uber|2018-11-28T15:00|Financial District|South Station|  4.5|             1.0| 48058|UberPool|\n",
      "|    0.63|    Uber|2018-12-18T19:00|Financial District|South Station|  4.5|             1.0| 49615|UberPool|\n",
      "|    0.63|    Uber|2018-11-27T11:00|Financial District|South Station|  4.5|             1.0| 52704|UberPool|\n",
      "|    0.63|    Uber|2018-11-30T20:00|Financial District|South Station|  4.5|             1.0| 56191|UberPool|\n",
      "|    0.63|    Uber|2018-11-28T10:00|Financial District|South Station|  4.5|             1.0| 58201|UberPool|\n",
      "|    0.63|    Uber|2018-12-15T02:00|Financial District|South Station|  4.5|             1.0| 61410|UberPool|\n",
      "|    0.63|    Uber|2018-11-29T00:00|Financial District|South Station|  4.5|             1.0| 62731|UberPool|\n",
      "|    0.63|    Uber|2018-12-01T04:00|Financial District|South Station|  4.5|             1.0| 63680|UberPool|\n",
      "|    0.63|    Uber|2018-11-28T21:00|Financial District|South Station|  4.5|             1.0| 63806|UberPool|\n",
      "|    0.63|    Uber|2018-11-26T10:00|Financial District|South Station|  4.5|             1.0| 66511|UberPool|\n",
      "+--------+--------+----------------+------------------+-------------+-----+----------------+------+--------+\n",
      "only showing top 20 rows\n",
      "\n"
     ]
    }
   ],
   "source": [
    "# Specify the BigQuery table\n",
    "project_id = \"idmpproject-441123\"\n",
    "dataset_id = \"uberFareEstimation\"\n",
    "table_name = \"uber_data\"\n",
    "\n",
    "bigquery_table = f\"{project_id}.{dataset_id}.{table_name}\"\n",
    "\n",
    "# Read data from BigQuery into a Spark DataFrame\n",
    "uber_df = spark.read \\\n",
    "    .format(\"bigquery\") \\\n",
    "    .option(\"table\", bigquery_table) \\\n",
    "    .load()\n",
    "\n",
    "# Show the first few rows of the DataFrame\n",
    "uber_df.show()"
   ]
  },
  {
   "cell_type": "code",
   "execution_count": null,
   "metadata": {},
   "outputs": [
    {
     "name": "stdout",
     "output_type": "stream",
     "text": [
      "+--------+--------+----------------+------------------+--------------------+-----+----------------+------+------+\n",
      "|distance|cab_type|      time_stamp|       destination|              source|price|surge_multiplier|    id|  name|\n",
      "+--------+--------+----------------+------------------+--------------------+-----+----------------+------+------+\n",
      "|     1.0|    Lyft|2018-12-02T10:00|Financial District|    Haymarket Square|  2.5|             1.0|266234|Shared|\n",
      "|     1.0|    Lyft|2018-12-02T07:00|         North End|  Financial District|  2.5|             1.0|358706|Shared|\n",
      "|     1.0|    Lyft|2018-12-17T02:00|Financial District|    Haymarket Square|  2.5|             1.0|401970|Shared|\n",
      "|     1.0|    Lyft|2018-11-27T00:00|Financial District|    Haymarket Square|  2.5|             1.0|536179|Shared|\n",
      "|     1.0|    Lyft|2018-12-16T19:00|     North Station|           North End|  2.5|             1.0|572308|Shared|\n",
      "|    1.25|    Lyft|2018-12-14T09:00|          Back Bay|Northeastern Univ...|  2.5|             1.0|140786|Shared|\n",
      "|    1.25|    Lyft|2018-12-02T09:00|  Theatre District|    Haymarket Square|  2.5|             1.0|259970|Shared|\n",
      "|    1.25|    Lyft|2018-12-01T20:00|          Back Bay|Northeastern Univ...|  2.5|             1.0|269277|Shared|\n",
      "|    1.25|    Lyft|2018-11-28T01:00|          West End|           North End|  2.5|             1.0|292287|Shared|\n",
      "|    1.25|    Lyft|2018-12-16T12:00|  Theatre District|    Haymarket Square|  2.5|             1.0|410287|Shared|\n",
      "|     1.5|    Lyft|2018-12-13T07:00|          Back Bay|   Boston University|  2.5|             1.0| 58025|Shared|\n",
      "|     1.5|    Lyft|2018-12-03T10:00|          Back Bay|   Boston University|  2.5|             1.0|193590|Shared|\n",
      "|     1.5|    Lyft|2018-12-01T04:00|          Back Bay|   Boston University|  2.5|             1.0|258367|Shared|\n",
      "|    1.75|    Lyft|2018-11-29T10:00|     South Station|            West End|  2.5|             1.0|453746|Shared|\n",
      "|    1.75|    Lyft|2018-12-03T02:00|     North Station|       South Station|  2.5|             1.0|458134|Shared|\n",
      "|    0.72|    Lyft|2018-12-03T09:00|          West End|    Haymarket Square|  2.5|             1.0| 66818|Shared|\n",
      "|    0.72|    Lyft|2018-12-15T20:00|          West End|    Haymarket Square|  2.5|             1.0|449441|Shared|\n",
      "|    0.97|    Lyft|2018-12-18T17:00|     North Station|           North End|  2.5|             1.0| 59159|Shared|\n",
      "|    0.97|    Lyft|2018-12-18T05:00|     North Station|           North End|  2.5|             1.0|312407|Shared|\n",
      "|    1.19|    Lyft|2018-12-17T09:00|  Theatre District|       South Station|  2.5|             1.0|379204|Shared|\n",
      "+--------+--------+----------------+------------------+--------------------+-----+----------------+------+------+\n",
      "only showing top 20 rows\n",
      "\n"
     ]
    },
    {
     "name": "stderr",
     "output_type": "stream",
     "text": [
      "                                                                                \r"
     ]
    }
   ],
   "source": [
    "table_name = \"lyft_data\"\n",
    "\n",
    "bigquery_table = f\"{project_id}.{dataset_id}.{table_name}\"\n",
    "\n",
    "# Read data from BigQuery into a Spark DataFrame\n",
    "lyft_df = spark.read \\\n",
    "    .format(\"bigquery\") \\\n",
    "    .option(\"table\", bigquery_table) \\\n",
    "    .load()\n",
    "\n",
    "# Show the first few rows of the DataFrame\n",
    "lyft_df.show()"
   ]
  },
  {
   "cell_type": "code",
   "execution_count": 4,
   "metadata": {},
   "outputs": [
    {
     "name": "stdout",
     "output_type": "stream",
     "text": [
      "+-----+--------------------+------+--------+----+----------------+--------+----+\n",
      "| temp|            location|clouds|pressure|rain|      time_stamp|humidity|wind|\n",
      "+-----+--------------------+------+--------+----+----------------+--------+----+\n",
      "|36.24|              Fenway|   0.0| 1012.38| 0.0|2018-12-16T12:00|    0.69|6.72|\n",
      "|36.25|Northeastern Univ...|   0.0| 1012.38| 0.0|2018-12-13T23:00|    0.69|6.77|\n",
      "|36.26|    Theatre District|   0.0| 1012.38| 0.0|2018-12-16T02:00|    0.69|6.86|\n",
      "|36.26|            West End|   0.0| 1012.37| 0.0|2018-11-29T18:00|    0.69|6.84|\n",
      "|29.97|            Back Bay|   0.0|  1015.2| 0.0|2018-11-29T03:00|    0.85|2.41|\n",
      "|29.95|         Beacon Hill|   0.0| 1015.19| 0.0|2018-12-14T18:00|    0.85|2.43|\n",
      "|29.85|   Boston University|   0.0|  1015.2| 0.0|2018-11-27T11:00|    0.85|2.33|\n",
      "|29.83|              Fenway|   0.0|  1015.2| 0.0|2018-12-16T04:00|    0.85|2.35|\n",
      "|29.98|  Financial District|   0.0| 1015.19| 0.0|2018-12-02T19:00|    0.85|2.48|\n",
      "|29.99|    Haymarket Square|   0.0| 1015.19| 0.0|2018-12-17T06:00|    0.85|2.46|\n",
      "|30.03|           North End|   0.0| 1015.19| 0.0|2018-12-17T21:00|    0.85|2.47|\n",
      "|29.95|       North Station|   0.0| 1015.19| 0.0|2018-12-03T22:00|    0.85|2.44|\n",
      "|29.88|Northeastern Univ...|   0.0|  1015.2| 0.0|2018-11-27T12:00|    0.85|2.39|\n",
      "|29.94|       South Station|   0.0| 1015.19| 0.0|2018-12-04T04:00|    0.85|2.49|\n",
      "| 29.9|    Theatre District|   0.0| 1015.19| 0.0|2018-12-17T17:00|    0.85|2.46|\n",
      "| 29.9|            West End|   0.0| 1015.19| 0.0|2018-11-27T08:00|    0.85|2.43|\n",
      "| 34.3|            Back Bay|   0.0| 1014.51| 0.0|2018-12-14T07:00|    0.73|4.84|\n",
      "|34.26|         Beacon Hill|   0.0| 1014.51| 0.0|2018-11-26T17:00|    0.73|4.85|\n",
      "|34.22|   Boston University|   0.0| 1014.51| 0.0|2018-12-16T02:00|    0.73|4.74|\n",
      "|34.22|              Fenway|   0.0| 1014.52| 0.0|2018-11-29T02:00|    0.73|4.78|\n",
      "+-----+--------------------+------+--------+----+----------------+--------+----+\n",
      "only showing top 20 rows\n",
      "\n"
     ]
    }
   ],
   "source": [
    "table_name = \"weather_data\"\n",
    "\n",
    "bigquery_table = f\"{project_id}.{dataset_id}.{table_name}\"\n",
    "\n",
    "# Read data from BigQuery into a Spark DataFrame\n",
    "weather_df = spark.read \\\n",
    "    .format(\"bigquery\") \\\n",
    "    .option(\"table\", bigquery_table) \\\n",
    "    .load()\n",
    "\n",
    "# Show the first few rows of the DataFrame\n",
    "weather_df.show()"
   ]
  },
  {
   "cell_type": "code",
   "execution_count": 10,
   "metadata": {},
   "outputs": [
    {
     "name": "stderr",
     "output_type": "stream",
     "text": [
      "                                                                                \r"
     ]
    },
    {
     "data": {
      "image/png": "[encoded data removed]",
      "text/plain": [
       "<Figure size 1500x600 with 2 Axes>"
      ]
     },
     "metadata": {},
     "output_type": "display_data"
    }
   ],
   "source": [
    "from pyspark.sql.functions import col, lit\n",
    "import matplotlib.pyplot as plt\n",
    "import seaborn as sns\n",
    "\n",
    "# Convert the 'price' column to Pandas for visualization\n",
    "price_data_pd = uber_df.select(\"price\").filter(col(\"price\").isNotNull()).toPandas()\n",
    "\n",
    "# Create a figure with two subplots: one for the histogram and one for the boxplot\n",
    "fig, axes = plt.subplots(1, 2, figsize=(15, 6))\n",
    "\n",
    "# Histogram Plot\n",
    "sns.histplot(price_data_pd['price'], bins=30, kde=True, color='blue', ax=axes[0])\n",
    "axes[0].set_title('Distribution of Fare Prices')\n",
    "axes[0].set_xlabel('Price')\n",
    "axes[0].set_ylabel('Frequency')\n",
    "\n",
    "# Boxplot Plot\n",
    "sns.boxplot(x=price_data_pd['price'], color='cyan', ax=axes[1])\n",
    "axes[1].set_title('Boxplot of Fare Prices')\n",
    "axes[1].set_xlabel('Price')\n",
    "\n",
    "# Display the plots\n",
    "plt.tight_layout()\n",
    "plt.show()\n"
   ]
  },
  {
   "cell_type": "code",
   "execution_count": 11,
   "metadata": {},
   "outputs": [
    {
     "name": "stderr",
     "output_type": "stream",
     "text": [
      "                                                                                \r"
     ]
    },
    {
     "name": "stdout",
     "output_type": "stream",
     "text": [
      "Number of outliers beyond Q3 + 1.5 * IQR: 3015\n",
      "Percentage of outliers: 0.91%\n"
     ]
    }
   ],
   "source": [
    "from pyspark.sql import functions as F\n",
    "\n",
    "# Calculate Q1, Q3, and IQR\n",
    "quantiles = uber_df.approxQuantile(\"price\", [0.25, 0.75], 0.001)\n",
    "Q1, Q3 = quantiles[0], quantiles[1]\n",
    "IQR = Q3 - Q1\n",
    "\n",
    "# Calculate the upper bound (Q3 + 1.5 * IQR)\n",
    "upper_bound = Q3 + 1.5 * IQR\n",
    "\n",
    "# Count the values beyond the upper bound\n",
    "outliers_count = uber_df.filter(col(\"price\") > upper_bound).count()\n",
    "\n",
    "# Total number of values\n",
    "total_count = uber_df.filter(col(\"price\").isNotNull()).count()\n",
    "\n",
    "# Calculate percentage of outliers\n",
    "outliers_percentage = (outliers_count / total_count) * 100\n",
    "\n",
    "# Print the results\n",
    "print(f\"Number of outliers beyond Q3 + 1.5 * IQR: {outliers_count}\")\n",
    "print(f\"Percentage of outliers: {outliers_percentage:.2f}%\")"
   ]
  },
  {
   "cell_type": "code",
   "execution_count": null,
   "metadata": {},
   "outputs": [],
   "source": []
  }
 ],
 "metadata": {
  "kernelspec": {
   "display_name": ".venv",
   "language": "python",
   "name": "python3"
  },
  "language_info": {
   "codemirror_mode": {
    "name": "ipython",
    "version": 3
   },
   "file_extension": ".py",
   "mimetype": "text/x-python",
   "name": "python",
   "nbconvert_exporter": "python",
   "pygments_lexer": "ipython3",
   "version": "3.12.6"
  }
 },
 "nbformat": 4,
 "nbformat_minor": 2
}
