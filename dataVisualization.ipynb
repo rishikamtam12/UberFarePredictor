{
 "cells": [
  {
   "cell_type": "code",
   "metadata": {
    "ExecuteTime": {
     "end_time": "2024-11-20T20:32:46.910458Z",
     "start_time": "2024-11-20T20:32:43.798077Z"
    }
   },
   "source": [
    "from pyspark.sql import SparkSession\n",
    "import os\n",
    "os.environ['GOOGLE_APPLICATION_CREDENTIALS'] = 'secrets/serviceKey.json'\n",
    "\n",
    "\n",
    "# JAR paths for BigQuery and GCS connectors\n",
    "bigquery_connector_jar = \"spark-bigquery-connector.jar\"\n",
    "gcs_connector_jar = \"gcs-connector.jar\"\n",
    "\n",
    "\n",
    "# Create SparkSession with both connectors\n",
    "spark = SparkSession.builder \\\n",
    "    .appName(\"PySpark with BigQuery and GCS\") \\\n",
    "    .config(\"spark.jars\", f\"{bigquery_connector_jar},{gcs_connector_jar}\") \\\n",
    "    .config(\"spark.sql.catalog.spark_bigquery\", \"com.google.cloud.spark.bigquery.BigQueryCatalog\") \\\n",
    "    .config(\"spark.hadoop.google.cloud.auth.service.account.json.keyfile\", \"secrets/serviceKey.json\") \\\n",
    "    .config(\"spark.bigquery.projectId\", \"idmpproject-441123\") \\\n",
    "    .getOrCreate()\n",
    "\n",
    "spark"
   ],
   "outputs": [
    {
     "name": "stderr",
     "output_type": "stream",
     "text": [
      "24/11/20 15:32:45 WARN Utils: Your hostname, sabaris-MacBook-Pro.local resolves to a loopback address: 127.0.0.1; using 10.110.50.201 instead (on interface en0)\n",
      "24/11/20 15:32:45 WARN Utils: Set SPARK_LOCAL_IP if you need to bind to another address\n",
      "24/11/20 15:32:45 WARN NativeCodeLoader: Unable to load native-hadoop library for your platform... using builtin-java classes where applicable\n",
      "Setting default log level to \"WARN\".\n",
      "To adjust logging level use sc.setLogLevel(newLevel). For SparkR, use setLogLevel(newLevel).\n",
      "24/11/20 15:32:46 WARN Utils: Service 'SparkUI' could not bind on port 4040. Attempting port 4041.\n"
     ]
    },
    {
     "data": {
      "text/plain": [
       "<pyspark.sql.session.SparkSession at 0x10453dd60>"
      ],
      "text/html": [
       "\n",
       "            <div>\n",
       "                <p><b>SparkSession - in-memory</b></p>\n",
       "                \n",
       "        <div>\n",
       "            <p><b>SparkContext</b></p>\n",
       "\n",
       "            <p><a href=\"http://10.110.50.201:4041\">Spark UI</a></p>\n",
       "\n",
       "            <dl>\n",
       "              <dt>Version</dt>\n",
       "                <dd><code>v3.5.3</code></dd>\n",
       "              <dt>Master</dt>\n",
       "                <dd><code>local[*]</code></dd>\n",
       "              <dt>AppName</dt>\n",
       "                <dd><code>PySpark with BigQuery and GCS</code></dd>\n",
       "            </dl>\n",
       "        </div>\n",
       "        \n",
       "            </div>\n",
       "        "
      ]
     },
     "execution_count": 1,
     "metadata": {},
     "output_type": "execute_result"
    }
   ],
   "execution_count": 1
  },
  {
   "cell_type": "code",
   "execution_count": 2,
   "metadata": {},
   "outputs": [
    {
     "name": "stderr",
     "output_type": "stream",
     "text": [
      "                                                                                \r"
     ]
    },
    {
     "name": "stdout",
     "output_type": "stream",
     "text": [
      "+--------+--------+----------------+------------------+-------------+-----+----------------+------+--------+\n",
      "|distance|cab_type|      time_stamp|       destination|       source|price|surge_multiplier|    id|    name|\n",
      "+--------+--------+----------------+------------------+-------------+-----+----------------+------+--------+\n",
      "|    0.94|    Uber|2018-11-28T23:00|         North End|North Station|  4.5|             1.0| 39765|UberPool|\n",
      "|    0.94|    Uber|2018-12-14T19:00|         North End|North Station|  4.5|             1.0|437984|UberPool|\n",
      "|    0.63|    Uber|2018-11-27T21:00|Financial District|South Station|  4.5|             1.0|  1644|UberPool|\n",
      "|    0.63|    Uber|2018-12-15T15:00|Financial District|South Station|  4.5|             1.0| 10780|UberPool|\n",
      "|    0.63|    Uber|2018-12-15T13:00|Financial District|South Station|  4.5|             1.0| 21598|UberPool|\n",
      "|    0.63|    Uber|2018-11-28T20:00|Financial District|South Station|  4.5|             1.0| 25567|UberPool|\n",
      "|    0.63|    Uber|2018-11-29T10:00|Financial District|South Station|  4.5|             1.0| 29271|UberPool|\n",
      "|    0.63|    Uber|2018-11-28T20:00|Financial District|South Station|  4.5|             1.0| 42671|UberPool|\n",
      "|    0.63|    Uber|2018-12-03T01:00|Financial District|South Station|  4.5|             1.0| 43391|UberPool|\n",
      "|    0.63|    Uber|2018-12-14T13:00|Financial District|South Station|  4.5|             1.0| 45972|UberPool|\n",
      "|    0.63|    Uber|2018-11-28T15:00|Financial District|South Station|  4.5|             1.0| 48058|UberPool|\n",
      "|    0.63|    Uber|2018-12-18T19:00|Financial District|South Station|  4.5|             1.0| 49615|UberPool|\n",
      "|    0.63|    Uber|2018-11-27T11:00|Financial District|South Station|  4.5|             1.0| 52704|UberPool|\n",
      "|    0.63|    Uber|2018-11-30T20:00|Financial District|South Station|  4.5|             1.0| 56191|UberPool|\n",
      "|    0.63|    Uber|2018-11-28T10:00|Financial District|South Station|  4.5|             1.0| 58201|UberPool|\n",
      "|    0.63|    Uber|2018-12-15T02:00|Financial District|South Station|  4.5|             1.0| 61410|UberPool|\n",
      "|    0.63|    Uber|2018-11-29T00:00|Financial District|South Station|  4.5|             1.0| 62731|UberPool|\n",
      "|    0.63|    Uber|2018-12-01T04:00|Financial District|South Station|  4.5|             1.0| 63680|UberPool|\n",
      "|    0.63|    Uber|2018-11-28T21:00|Financial District|South Station|  4.5|             1.0| 63806|UberPool|\n",
      "|    0.63|    Uber|2018-11-26T10:00|Financial District|South Station|  4.5|             1.0| 66511|UberPool|\n",
      "+--------+--------+----------------+------------------+-------------+-----+----------------+------+--------+\n",
      "only showing top 20 rows\n",
      "\n"
     ]
    }
   ],
   "source": [
    "# Specify the BigQuery table\n",
    "project_id = \"idmpproject-441123\"\n",
    "dataset_id = \"uberFareEstimation\"\n",
    "table_name = \"uber_data\"\n",
    "\n",
    "bigquery_table = f\"{project_id}.{dataset_id}.{table_name}\"\n",
    "\n",
    "# Read data from BigQuery into a Spark DataFrame\n",
    "df = spark.read \\\n",
    "    .format(\"bigquery\") \\\n",
    "    .option(\"table\", bigquery_table) \\\n",
    "    .load()\n",
    "\n",
    "# Show the first few rows of the DataFrame\n",
    "df.show()\n"
   ]
  },
  {
   "cell_type": "code",
   "execution_count": 3,
   "metadata": {},
   "outputs": [
    {
     "name": "stdout",
     "output_type": "stream",
     "text": [
      "root\n",
      " |-- distance: double (nullable = true)\n",
      " |-- cab_type: string (nullable = true)\n",
      " |-- time_stamp: string (nullable = true)\n",
      " |-- destination: string (nullable = true)\n",
      " |-- source: string (nullable = true)\n",
      " |-- price: double (nullable = true)\n",
      " |-- surge_multiplier: double (nullable = true)\n",
      " |-- id: long (nullable = true)\n",
      " |-- name: string (nullable = true)\n",
      "\n"
     ]
    }
   ],
   "source": [
    "df.printSchema()"
   ]
  },
  {
   "cell_type": "code",
   "execution_count": 4,
   "metadata": {},
   "outputs": [
    {
     "name": "stdout",
     "output_type": "stream",
     "text": [
      "Number of rows: 330568, Number of columns: 9\n"
     ]
    }
   ],
   "source": [
    "# Get number of rows\n",
    "num_rows = df.count()\n",
    "\n",
    "# Get number of columns\n",
    "num_columns = len(df.columns)\n",
    "\n",
    "# Print the shape\n",
    "print(f\"Number of rows: {num_rows}, Number of columns: {num_columns}\")\n"
   ]
  },
  {
   "cell_type": "code",
   "execution_count": 6,
   "metadata": {},
   "outputs": [],
   "source": [
    "df_filtered1 = df.filter((df[\"destination\"] == \"North End\") & (df[\"price\"] > 50))"
   ]
  },
  {
   "cell_type": "code",
   "execution_count": 7,
   "metadata": {},
   "outputs": [
    {
     "name": "stdout",
     "output_type": "stream",
     "text": [
      "+--------+--------+----------------+-----------+------------------+-----+----------------+------+---------+\n",
      "|distance|cab_type|      time_stamp|destination|            source|price|surge_multiplier|    id|     name|\n",
      "+--------+--------+----------------+-----------+------------------+-----+----------------+------+---------+\n",
      "|    1.57|    Uber|2018-11-28T11:00|  North End|  Theatre District| 52.0|             1.0|419824|Black SUV|\n",
      "|    2.43|    Uber|2018-12-01T17:00|  North End|       Beacon Hill| 52.0|             1.0|282138|Black SUV|\n",
      "|    1.08|    Uber|2018-12-14T04:00|  North End|     North Station| 56.0|             1.0| 79077|Black SUV|\n",
      "|    7.34|    Uber|2018-12-01T00:00|  North End|          Back Bay| 58.0|             1.0|630617|Black SUV|\n",
      "|     2.7|    Uber|2018-11-28T12:00|  North End|          Back Bay| 58.0|             1.0|532066|Black SUV|\n",
      "|     3.4|    Uber|2018-11-27T00:00|  North End|          Back Bay| 64.0|             1.0|511471|Black SUV|\n",
      "|    7.34|    Uber|2018-12-03T08:00|  North End|          Back Bay| 50.5|             1.0|  2037|Black SUV|\n",
      "|    7.34|    Uber|2018-12-13T11:00|  North End|          Back Bay| 50.5|             1.0|468194|Black SUV|\n",
      "|    1.21|    Uber|2018-11-30T05:00|  North End|Financial District| 50.5|             1.0|330629|Black SUV|\n",
      "|    2.49|    Uber|2018-11-27T14:00|  North End|          Back Bay| 52.5|             1.0|362955|Black SUV|\n",
      "|     3.4|    Uber|2018-11-26T15:00|  North End|          Back Bay| 58.5|             1.0|254760|   UberXL|\n",
      "|    7.34|    Uber|2018-11-28T12:00|  North End|          Back Bay| 51.0|             1.0|363248|Black SUV|\n",
      "|    7.36|    Uber|2018-12-02T04:00|  North End|          Back Bay| 51.0|             1.0|637878|Black SUV|\n",
      "|     3.4|    Uber|2018-12-17T23:00|  North End|          Back Bay| 53.0|             1.0|469985|Black SUV|\n",
      "|    7.34|    Uber|2018-11-30T10:00|  North End|          Back Bay| 55.0|             1.0|415615|Black SUV|\n",
      "|    1.23|    Uber|2018-11-27T17:00|  North End|          West End| 59.0|             1.0|111697|Black SUV|\n",
      "|    7.34|    Uber|2018-11-27T07:00|  North End|          Back Bay| 51.5|             1.0|329858|Black SUV|\n",
      "|    2.84|    Uber|2018-11-28T17:00|  North End|          Back Bay| 51.5|             1.0|525092|   UberXL|\n",
      "|    1.08|    Uber|2018-12-18T05:00|  North End|     North Station| 53.5|             1.0|348687|Black SUV|\n",
      "+--------+--------+----------------+-----------+------------------+-----+----------------+------+---------+\n",
      "\n"
     ]
    }
   ],
   "source": [
    "df_filtered1.show()"
   ]
  },
  {
   "cell_type": "code",
   "execution_count": null,
   "metadata": {},
   "outputs": [],
   "source": []
  }
 ],
 "metadata": {
  "kernelspec": {
   "display_name": ".venv",
   "language": "python",
   "name": "python3"
  },
  "language_info": {
   "codemirror_mode": {
    "name": "ipython",
    "version": 3
   },
   "file_extension": ".py",
   "mimetype": "text/x-python",
   "name": "python",
   "nbconvert_exporter": "python",
   "pygments_lexer": "ipython3",
   "version": "3.12.6"
  }
 },
 "nbformat": 4,
 "nbformat_minor": 2
}
