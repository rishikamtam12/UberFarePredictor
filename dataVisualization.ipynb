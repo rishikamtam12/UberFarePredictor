{
 "cells": [
  {
   "cell_type": "code",
   "metadata": {},
   "source": [
    "from pyspark.sql import SparkSession\n",
    "import os\n",
    "os.environ['GOOGLE_APPLICATION_CREDENTIALS'] = 'secrets/serviceKey.json'\n",
    "\n",
    "\n",
    "# JAR paths for BigQuery and GCS connectors\n",
    "bigquery_connector_jar = \"spark-bigquery-connector.jar\"\n",
    "gcs_connector_jar = \"gcs-connector.jar\"\n",
    "\n",
    "\n",
    "# Create SparkSession with both connectors\n",
    "spark = SparkSession.builder \\\n",
    "    .appName(\"PySpark with BigQuery and GCS\") \\\n",
    "    .config(\"spark.jars\", f\"{bigquery_connector_jar},{gcs_connector_jar}\") \\\n",
    "    .config(\"spark.sql.catalog.spark_bigquery\", \"com.google.cloud.spark.bigquery.BigQueryCatalog\") \\\n",
    "    .config(\"spark.hadoop.google.cloud.auth.service.account.json.keyfile\", \"secrets/serviceKey.json\") \\\n",
    "    .config(\"spark.bigquery.projectId\", \"idmpproject-441123\") \\\n",
    "    .getOrCreate()\n",
    "\n",
    "spark"
   ],
   "outputs": [],
   "execution_count": null
  },
  {
   "cell_type": "code",
   "metadata": {},
   "source": [
    "# Specify the BigQuery table\n",
    "project_id = \"idmpproject-441123\"\n",
    "dataset_id = \"uberFareEstimation\"\n",
    "table_name = \"uber_data\"\n",
    "\n",
    "bigquery_table = f\"{project_id}.{dataset_id}.{table_name}\"\n",
    "\n",
    "# Read data from BigQuery into a Spark DataFrame\n",
    "df = spark.read \\\n",
    "    .format(\"bigquery\") \\\n",
    "    .option(\"table\", bigquery_table) \\\n",
    "    .load()\n",
    "\n",
    "# Show the first few rows of the DataFrame\n",
    "df.show()\n"
   ],
   "outputs": [],
   "execution_count": null
  },
  {
   "cell_type": "code",
   "metadata": {},
   "source": [
    "df.printSchema()"
   ],
   "outputs": [],
   "execution_count": null
  },
  {
   "cell_type": "code",
   "metadata": {},
   "source": [
    "# Get number of rows\n",
    "num_rows = df.count()\n",
    "\n",
    "# Get number of columns\n",
    "num_columns = len(df.columns)\n",
    "\n",
    "# Print the shape\n",
    "print(f\"Number of rows: {num_rows}, Number of columns: {num_columns}\")\n"
   ],
   "outputs": [],
   "execution_count": null
  },
  {
   "cell_type": "code",
   "metadata": {},
   "source": [
    "df_filtered = spark.read \\\n",
    "    .format(\"bigquery\") \\\n",
    "    .option(\"query\", \"\"\"\n",
    "    SELECT * \n",
    "    FROM `idmpproject-441123.uberFareEstimation.uber_data`\n",
    "    WHERE TRIM(LOWER(destination)) = 'north end'\n",
    "    \"\"\") \\\n",
    "    .load()"
   ],
   "outputs": [],
   "execution_count": null
  },
  {
   "cell_type": "code",
   "metadata": {},
   "source": [
    "df_filtered1 = df.filter((df[\"destination\"] == \"North End\") & (df[\"price\"] > 50))"
   ],
   "outputs": [],
   "execution_count": null
  },
  {
   "cell_type": "code",
   "metadata": {},
   "source": [
    "df_filtered1.show()"
   ],
   "outputs": [],
   "execution_count": null
  },
  {
   "cell_type": "code",
   "metadata": {},
   "source": [],
   "outputs": [],
   "execution_count": null
  }
 ],
 "metadata": {
  "kernelspec": {
   "display_name": ".venv",
   "language": "python",
   "name": "python3"
  },
  "language_info": {
   "codemirror_mode": {
    "name": "ipython",
    "version": 3
   },
   "file_extension": ".py",
   "mimetype": "text/x-python",
   "name": "python",
   "nbconvert_exporter": "python",
   "pygments_lexer": "ipython3",
   "version": "3.12.6"
  }
 },
 "nbformat": 4,
 "nbformat_minor": 2
}
