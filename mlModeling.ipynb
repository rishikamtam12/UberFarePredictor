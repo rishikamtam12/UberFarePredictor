{
 "cells": [
  {
   "cell_type": "code",
   "execution_count": 1,
   "metadata": {},
   "outputs": [
    {
     "name": "stderr",
     "output_type": "stream",
     "text": [
      "/Users/sabarimathavan/Downloads/Python/.venv/lib/python3.12/site-packages/google/cloud/bigquery/table.py:1727: UserWarning: BigQuery Storage module not found, fetch data with the REST endpoint instead.\n",
      "  warnings.warn(\n"
     ]
    },
    {
     "name": "stdout",
     "output_type": "stream",
     "text": [
      "   distance cab_type          time_stamp         destination         source  \\\n",
      "0      0.94     Uber 2018-11-28 23:30:00           North End  North Station   \n",
      "1      0.94     Uber 2018-12-14 19:30:00           North End  North Station   \n",
      "2      0.63     Uber 2018-11-27 21:30:00  Financial District  South Station   \n",
      "3      0.63     Uber 2018-12-15 15:00:00  Financial District  South Station   \n",
      "4      0.63     Uber 2018-12-15 13:30:00  Financial District  South Station   \n",
      "\n",
      "   price  surge_multiplier      id      name  \n",
      "0    4.5               1.0   39765  UberPool  \n",
      "1    4.5               1.0  437984  UberPool  \n",
      "2    4.5               1.0    1644  UberPool  \n",
      "3    4.5               1.0   10780  UberPool  \n",
      "4    4.5               1.0   21598  UberPool  \n"
     ]
    }
   ],
   "source": [
    "from google.cloud import bigquery\n",
    "\n",
    "# Initialize BigQuery Client\n",
    "client = bigquery.Client.from_service_account_json(\"secrets/serviceKey.json\")\n",
    "\n",
    "project_id = \"idmpproject-441123\"\n",
    "dataset_id = \"uberFareEstimation\"\n",
    "table_id = 'uber_data'\n",
    "\n",
    "table_path = f\"{project_id}.{dataset_id}.{table_id}\"\n",
    "\n",
    "# Define the query\n",
    "query = f\"\"\"\n",
    "    SELECT *\n",
    "    FROM `{table_path}`\n",
    "    LIMIT 1000\n",
    "\"\"\"\n",
    "\n",
    "# Run the query\n",
    "query_job = client.query(query)\n",
    "\n",
    "# Wait for the query to complete and fetch results\n",
    "results = query_job.result()\n",
    "\n",
    "df = results.to_dataframe()\n",
    "print(df.head())\n"
   ]
  },
  {
   "cell_type": "code",
   "execution_count": null,
   "metadata": {},
   "outputs": [],
   "source": []
  }
 ],
 "metadata": {
  "kernelspec": {
   "display_name": ".venv",
   "language": "python",
   "name": "python3"
  },
  "language_info": {
   "codemirror_mode": {
    "name": "ipython",
    "version": 3
   },
   "file_extension": ".py",
   "mimetype": "text/x-python",
   "name": "python",
   "nbconvert_exporter": "python",
   "pygments_lexer": "ipython3",
   "version": "3.12.6"
  }
 },
 "nbformat": 4,
 "nbformat_minor": 2
}
