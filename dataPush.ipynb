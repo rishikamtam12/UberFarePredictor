{
 "cells": [
  {
   "cell_type": "code",
   "metadata": {
    "vscode": {
     "languageId": "plaintext"
    },
    "ExecuteTime": {
     "end_time": "2024-11-09T00:25:34.882121Z",
     "start_time": "2024-11-09T00:25:33.596203Z"
    }
   },
   "source": [
    "import pandas as pd\n",
    "df = pd.read_csv('dataOriginal/cab_rides.csv')\n",
    "print(df.head(5))"
   ],
   "outputs": [
    {
     "name": "stdout",
     "output_type": "stream",
     "text": [
      "   distance cab_type     time_stamp    destination            source  price  \\\n",
      "0      0.44     Lyft  1544952607890  North Station  Haymarket Square    5.0   \n",
      "1      0.44     Lyft  1543284023677  North Station  Haymarket Square   11.0   \n",
      "2      0.44     Lyft  1543366822198  North Station  Haymarket Square    7.0   \n",
      "3      0.44     Lyft  1543553582749  North Station  Haymarket Square   26.0   \n",
      "4      0.44     Lyft  1543463360223  North Station  Haymarket Square    9.0   \n",
      "\n",
      "   surge_multiplier                                    id    product_id  \\\n",
      "0               1.0  424553bb-7174-41ea-aeb4-fe06d4f4b9d7     lyft_line   \n",
      "1               1.0  4bd23055-6827-41c6-b23b-3c491f24e74d  lyft_premier   \n",
      "2               1.0  981a3613-77af-4620-a42a-0c0866077d1e          lyft   \n",
      "3               1.0  c2d88af2-d278-4bfd-a8d0-29ca77cc5512   lyft_luxsuv   \n",
      "4               1.0  e0126e1f-8ca9-4f2e-82b3-50505a09db9a     lyft_plus   \n",
      "\n",
      "           name  \n",
      "0        Shared  \n",
      "1           Lux  \n",
      "2          Lyft  \n",
      "3  Lux Black XL  \n",
      "4       Lyft XL  \n"
     ]
    }
   ],
   "execution_count": 1
  },
  {
   "metadata": {},
   "cell_type": "code",
   "outputs": [],
   "execution_count": null,
   "source": ""
  }
 ],
 "metadata": {
  "language_info": {
   "name": "python"
  },
  "kernelspec": {
   "name": "python3",
   "language": "python",
   "display_name": "Python 3 (ipykernel)"
  }
 },
 "nbformat": 4,
 "nbformat_minor": 2
}
