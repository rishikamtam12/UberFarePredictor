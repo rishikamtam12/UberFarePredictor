{
 "cells": [
  {
   "cell_type": "code",
   "metadata": {
    "vscode": {
     "languageId": "plaintext"
    },
    "ExecuteTime": {
     "end_time": "2024-11-09T01:09:10.993225Z",
     "start_time": "2024-11-09T01:09:10.340266Z"
    }
   },
   "source": [
    "# importing necessary libraries\n",
    "import pandas as pd\n",
    "import numpy as np\n",
    "\n",
    "# reading cab rides data into dataframe\n",
    "rides_df = pd.read_csv('dataOriginal/cab_rides.csv')\n",
    "\n",
    "# reading weather data into dataframe\n",
    "weather_df = pd.read_csv('dataOriginal/weather.csv')\n",
    "\n"
   ],
   "outputs": [],
   "execution_count": 31
  },
  {
   "metadata": {
    "ExecuteTime": {
     "end_time": "2024-11-09T01:12:54.497325Z",
     "start_time": "2024-11-09T01:12:54.455928Z"
    }
   },
   "cell_type": "code",
   "source": [
    "\n",
    "\n",
    "rides_df['time_stamp'] = pd.to_datetime(rides_df['time_stamp'], unit='ms').dt.floor('h')\n",
    "\n",
    "weather_df['time_stamp'] = pd.to_datetime(rides_df['time_stamp'], unit='ms').dt.floor('h')\n"
   ],
   "outputs": [],
   "execution_count": 40
  },
  {
   "metadata": {
    "ExecuteTime": {
     "end_time": "2024-11-09T01:14:05.970236Z",
     "start_time": "2024-11-09T01:14:05.868863Z"
    }
   },
   "cell_type": "code",
   "source": "rides_df.isnull().sum()",
   "outputs": [
    {
     "data": {
      "text/plain": [
       "distance                0\n",
       "cab_type                0\n",
       "time_stamp              0\n",
       "destination             0\n",
       "source                  0\n",
       "price               55095\n",
       "surge_multiplier        0\n",
       "id                      0\n",
       "product_id              0\n",
       "name                    0\n",
       "dtype: int64"
      ]
     },
     "execution_count": 45,
     "metadata": {},
     "output_type": "execute_result"
    }
   ],
   "execution_count": 45
  },
  {
   "metadata": {
    "ExecuteTime": {
     "end_time": "2024-11-09T01:12:54.770320Z",
     "start_time": "2024-11-09T01:12:54.631783Z"
    }
   },
   "cell_type": "code",
   "source": [
    "# splitting dataframes into Uber and Lyft\n",
    "uber_df = rides_df[rides_df['cab_type'] == 'Uber']\n",
    "lyft_df = rides_df[rides_df['cab_type'] == 'Lyft']"
   ],
   "outputs": [],
   "execution_count": 41
  },
  {
   "metadata": {},
   "cell_type": "code",
   "outputs": [],
   "execution_count": null,
   "source": ""
  }
 ],
 "metadata": {
  "language_info": {
   "name": "python"
  },
  "kernelspec": {
   "name": "python3",
   "language": "python",
   "display_name": "Python 3 (ipykernel)"
  }
 },
 "nbformat": 4,
 "nbformat_minor": 2
}
