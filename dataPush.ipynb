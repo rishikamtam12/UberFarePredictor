{
 "cells": [
  {
   "cell_type": "code",
   "metadata": {
    "vscode": {
     "languageId": "plaintext"
    },
    "ExecuteTime": {
     "end_time": "2024-11-09T01:09:10.993225Z",
     "start_time": "2024-11-09T01:09:10.340266Z"
    }
   },
   "source": [
    "# importing necessary libraries\n",
    "import pandas as pd\n",
    "import numpy as np\n",
    "\n",
    "# reading cab rides data into dataframe\n",
    "rides_df = pd.read_csv('dataOriginal/cab_rides.csv')\n",
    "\n",
    "# reading weather data into dataframe\n",
    "weather_df = pd.read_csv('dataOriginal/weather.csv')\n",
    "\n"
   ],
   "outputs": [],
   "execution_count": 31
  },
  {
   "metadata": {
    "ExecuteTime": {
     "end_time": "2024-11-09T01:12:54.497325Z",
     "start_time": "2024-11-09T01:12:54.455928Z"
    }
   },
   "cell_type": "code",
   "source": [
    "# \n",
    "rides_df['time_stamp'] = pd.to_datetime(rides_df['time_stamp'], unit='ms').dt.floor('h')\n",
    "\n",
    "weather_df['time_stamp'] = pd.to_datetime(rides_df['time_stamp'], unit='ms').dt.floor('h')\n"
   ],
   "outputs": [],
   "execution_count": 40
  },
  {
   "metadata": {
    "ExecuteTime": {
     "end_time": "2024-11-09T01:21:32.916892Z",
     "start_time": "2024-11-09T01:21:32.911275Z"
    }
   },
   "cell_type": "code",
   "source": [
    "# removing Null Values from rides dataframe \n",
    "\n",
    "rides_df\n",
    "\n"
   ],
   "outputs": [],
   "execution_count": 47
  },
  {
   "metadata": {
    "ExecuteTime": {
     "end_time": "2024-11-09T01:21:33.026289Z",
     "start_time": "2024-11-09T01:21:33.024809Z"
    }
   },
   "cell_type": "code",
   "source": "# Remove product id from rides df\n",
   "outputs": [],
   "execution_count": 48
  },
  {
   "metadata": {},
   "cell_type": "code",
   "outputs": [],
   "execution_count": null,
   "source": "# Converting id from 30 characters -> 0, 1, 2, etc..\n"
  },
  {
   "metadata": {
    "ExecuteTime": {
     "end_time": "2024-11-09T01:12:54.770320Z",
     "start_time": "2024-11-09T01:12:54.631783Z"
    }
   },
   "cell_type": "code",
   "source": [
    "# splitting dataframes into Uber and Lyft\n",
    "uber_df = rides_df[rides_df['cab_type'] == 'Uber']\n",
    "lyft_df = rides_df[rides_df['cab_type'] == 'Lyft']"
   ],
   "outputs": [],
   "execution_count": 41
  },
  {
   "metadata": {},
   "cell_type": "code",
   "outputs": [],
   "execution_count": null,
   "source": ""
  }
 ],
 "metadata": {
  "language_info": {
   "name": "python"
  },
  "kernelspec": {
   "name": "python3",
   "language": "python",
   "display_name": "Python 3 (ipykernel)"
  }
 },
 "nbformat": 4,
 "nbformat_minor": 2
}
