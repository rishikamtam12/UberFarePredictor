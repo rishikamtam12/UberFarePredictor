{
 "cells": [
  {
   "cell_type": "code",
   "metadata": {
    "vscode": {
     "languageId": "plaintext"
    },
    "ExecuteTime": {
     "end_time": "2024-11-10T01:21:13.021738Z",
     "start_time": "2024-11-10T01:21:12.274432Z"
    }
   },
   "source": [
    "# importing necessary libraries\n",
    "import pandas as pd\n",
    "import numpy as np\n",
    "\n",
    "# reading cab rides data into dataframe\n",
    "rides_df = pd.read_csv('dataOriginal/cab_rides.csv')\n",
    "\n",
    "# reading weather data into dataframe\n",
    "weather_df = pd.read_csv('dataOriginal/weather.csv')\n",
    "\n"
   ],
   "outputs": [],
   "execution_count": 122
  },
  {
   "metadata": {
    "ExecuteTime": {
     "end_time": "2024-11-10T01:21:13.702133Z",
     "start_time": "2024-11-10T01:21:13.645776Z"
    }
   },
   "cell_type": "code",
   "source": [
    "# Converting Unix timestamp to Datetime, truncated to nearest hour\n",
    "rides_df['time_stamp'] = pd.to_datetime(rides_df['time_stamp'], unit='ms').dt.floor('h')\n",
    "\n",
    "weather_df['time_stamp'] = pd.to_datetime(rides_df['time_stamp'], unit='ms').dt.floor('h')\n"
   ],
   "outputs": [],
   "execution_count": 123
  },
  {
   "metadata": {
    "ExecuteTime": {
     "end_time": "2024-11-10T01:21:14.945197Z",
     "start_time": "2024-11-10T01:21:14.824063Z"
    }
   },
   "cell_type": "code",
   "source": [
    "# removing Null Values from rides dataframe \n",
    "rides_df = rides_df.dropna()\n"
   ],
   "outputs": [],
   "execution_count": 124
  },
  {
   "metadata": {
    "ExecuteTime": {
     "end_time": "2024-11-10T01:21:15.832790Z",
     "start_time": "2024-11-10T01:21:15.794151Z"
    }
   },
   "cell_type": "code",
   "source": [
    "# Remove product id from rides df\n",
    "rides_df = rides_df.drop('product_id', axis = 1)\n"
   ],
   "outputs": [],
   "execution_count": 125
  },
  {
   "metadata": {
    "ExecuteTime": {
     "end_time": "2024-11-10T01:21:16.693288Z",
     "start_time": "2024-11-10T01:21:16.689434Z"
    }
   },
   "cell_type": "code",
   "source": [
    "# Converting id from 30 characters -> 0, 1, 2, etc..\n",
    "rides_df['id'] = range(len(rides_df))\n"
   ],
   "outputs": [],
   "execution_count": 126
  },
  {
   "metadata": {
    "ExecuteTime": {
     "end_time": "2024-11-10T01:21:17.824140Z",
     "start_time": "2024-11-10T01:21:17.724075Z"
    }
   },
   "cell_type": "code",
   "source": [
    "# splitting dataframes into Uber and Lyft\n",
    "uber_df = rides_df[rides_df['cab_type'] == 'Uber']\n",
    "lyft_df = rides_df[rides_df['cab_type'] == 'Lyft']"
   ],
   "outputs": [],
   "execution_count": 127
  },
  {
   "metadata": {},
   "cell_type": "code",
   "outputs": [],
   "execution_count": null,
   "source": ""
  }
 ],
 "metadata": {
  "language_info": {
   "name": "python"
  },
  "kernelspec": {
   "name": "python3",
   "language": "python",
   "display_name": "Python 3 (ipykernel)"
  }
 },
 "nbformat": 4,
 "nbformat_minor": 2
}
