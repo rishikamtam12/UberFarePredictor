{
 "cells": [
  {
   "cell_type": "code",
   "metadata": {
    "vscode": {
     "languageId": "plaintext"
    },
    "ExecuteTime": {
     "end_time": "2024-11-09T00:31:02.172344Z",
     "start_time": "2024-11-09T00:31:01.460390Z"
    }
   },
   "source": [
    "# importing necessary libraries\n",
    "import pandas as pd\n",
    "import numpy as np\n",
    "\n",
    "# reading cab rides data into dataframe\n",
    "df = pd.read_csv('dataOriginal/cab_rides.csv')\n",
    "\n",
    "# splitting dataframes into Uber and Lyft\n",
    "uber_df = df[df['cab_type'] == 'Uber']\n",
    "lyft_df = df[df['cab_type'] == 'Lyft']\n"
   ],
   "outputs": [
    {
     "data": {
      "text/plain": [
       "(307408, 10)"
      ]
     },
     "execution_count": 14,
     "metadata": {},
     "output_type": "execute_result"
    }
   ],
   "execution_count": 14
  },
  {
   "metadata": {},
   "cell_type": "code",
   "outputs": [],
   "execution_count": null,
   "source": ""
  },
  {
   "metadata": {},
   "cell_type": "code",
   "outputs": [],
   "execution_count": null,
   "source": ""
  }
 ],
 "metadata": {
  "language_info": {
   "name": "python"
  },
  "kernelspec": {
   "name": "python3",
   "language": "python",
   "display_name": "Python 3 (ipykernel)"
  }
 },
 "nbformat": 4,
 "nbformat_minor": 2
}
